{
 "cells": [
  {
   "cell_type": "markdown",
   "metadata": {},
   "source": [
    "# **Tableau de bord RH(2006-2018)** \n",
    "\n",
    "**0 - Importation des bibliothèques pour l'analyse de données et la visualisation**"
   ]
  },
  {
   "cell_type": "code",
   "execution_count": null,
   "metadata": {},
   "outputs": [],
   "source": [
    "#importing Libs\n",
    "import pandas as pd\n",
    "import numpy as np\n",
    "import matplotlib.pyplot as plt\n",
    "import seaborn as sns"
   ]
  },
  {
   "cell_type": "markdown",
   "metadata": {},
   "source": [
    "**1 : Chargement et Exploration Initiale des Données**"
   ]
  },
  {
   "cell_type": "code",
   "execution_count": 1,
   "metadata": {},
   "outputs": [
    {
     "ename": "NameError",
     "evalue": "name 'pd' is not defined",
     "output_type": "error",
     "traceback": [
      "\u001b[1;31m---------------------------------------------------------------------------\u001b[0m",
      "\u001b[1;31mNameError\u001b[0m                                 Traceback (most recent call last)",
      "Cell \u001b[1;32mIn[1], line 5\u001b[0m\n\u001b[0;32m      2\u001b[0m file_path \u001b[38;5;241m=\u001b[39m \u001b[38;5;124mr\u001b[39m\u001b[38;5;124m'\u001b[39m\u001b[38;5;124mC:\u001b[39m\u001b[38;5;124m\\\u001b[39m\u001b[38;5;124mUsers\u001b[39m\u001b[38;5;124m\\\u001b[39m\u001b[38;5;124mabdou\u001b[39m\u001b[38;5;124m\\\u001b[39m\u001b[38;5;124mDesktop\u001b[39m\u001b[38;5;124m\\\u001b[39m\u001b[38;5;124mBI TB\u001b[39m\u001b[38;5;124m\\\u001b[39m\u001b[38;5;124mHR_Power_BI_Dashboard\u001b[39m\u001b[38;5;124m\\\u001b[39m\u001b[38;5;124mHRData_py.csv\u001b[39m\u001b[38;5;124m'\u001b[39m\n\u001b[0;32m      4\u001b[0m \u001b[38;5;66;03m#Lecture du fichier CSV\u001b[39;00m\n\u001b[1;32m----> 5\u001b[0m df \u001b[38;5;241m=\u001b[39m \u001b[43mpd\u001b[49m\u001b[38;5;241m.\u001b[39mread_csv(file_path)\n",
      "\u001b[1;31mNameError\u001b[0m: name 'pd' is not defined"
     ]
    }
   ],
   "source": [
    "#Chemin vers le fichier CSV\n",
    "file_path = r'C:\\Users\\abdou\\Desktop\\BI TB\\HR_Power_BI_Dashboard\\HRData_py.csv'\n",
    "\n",
    "#Lecture du fichier CSV\n",
    "df = pd.read_csv(file_path)"
   ]
  },
  {
   "cell_type": "markdown",
   "metadata": {},
   "source": [
    "**2 : Analyse des Effectifs du Personnel**\n",
    "\n",
    "*2-1 : Calcule- Analyse des Effectifs du Personnel*"
   ]
  },
  {
   "cell_type": "code",
   "execution_count": null,
   "metadata": {},
   "outputs": [],
   "source": [
    "#Head Count (Nombre total d'employés)\n",
    "head_count = df['EmployeeID'].count()\n",
    "#Active Count (Nombre d'employés actifs) & %\n",
    "active_count = df[df['EmploymentStatus'] == 'Active']['EmployeeID'].count()\n",
    "percent_active = (active_count / head_count) * 100 if head_count > 0 else 0\n",
    "\n",
    "#Terminated Count (Nombre d'employés actifs) & %\n",
    "Terminated_count = df[df['EmploymentStatus'].isin(['Voluntarily Terminated', 'Terminated for Cause'])]['EmployeeID'].count()\n",
    "percent_Terminated = (Terminated_count / head_count) * 100 if head_count > 0 else 0\n",
    "\n",
    "## Calculer l'ancienneté en mois-------------------------\n",
    "#  Convertir les dates au format datetime\n",
    "df['HiringDate'] = pd.to_datetime(df['HiringDate'], errors='coerce')\n",
    "df['TerminationDate'] = pd.to_datetime(df['TerminationDate'], errors='coerce')\n",
    "# Fonction pour calculer l'ancienneté en mois\n",
    "def calculate_tenure(row):\n",
    "    if pd.notnull(row['TerminationDate']):  # Vérifier si la date de fin existe\n",
    "        return (row['TerminationDate'] - row['HiringDate']).days // 30.63  # Convertir jours en mois (moyenne des jours par mois)\n",
    "    return None  # Ignorer si pas de date de fin pour les Actifs\n",
    "\n",
    "# Appliquer la fonction et créer la colonne \"Tenure_Months\"\n",
    "terminated_employees = df[df['EmploymentStatus'].isin(['Voluntarily Terminated', 'Terminated for Cause'])].copy()\n",
    "terminated_employees['Tenure_Months'] = terminated_employees.apply(calculate_tenure, axis=1)\n",
    "# Calculer la moyenne de l'ancienneté des employés terminés\n",
    "average_tenure = terminated_employees['Tenure_Months'].mean()\n",
    "\n",
    "#Male Count (Nombre d'employés actifs) & % -------------------\n",
    "Male_count = df[df['Gender'] == 'M ']['EmployeeID'].count()\n",
    "Percent_Male = (Male_count/head_count)*100 if head_count > 0 else 0\n",
    "#Female Count (Nombre d'employés actifs) & %\n",
    "Female_count = df[df['Gender'] == 'F']['EmployeeID'].count()\n",
    "Percent_Female = (Female_count/head_count)*100 if head_count > 0 else 0\n",
    "#Affichage des résultats\n",
    "print(\"--------------------------------\")\n",
    "print(\"Tableau 1 : Répartition par Genre et Statut\")\n",
    "print(\"--------------------------------\")\n",
    "print(f\"Effectif total: {head_count}\")\n",
    "print(f\"Employés actifs: {active_count} ({percent_active:.2f}%)\")\n",
    "print(f\"Employés Départs: {Terminated_count} ({percent_Terminated:.2f}%)\")\n",
    "print(f\"Hommes: {Male_count} ({Percent_Male:.2f}%)\")\n",
    "print(f\"Femmes: {Female_count} ({Percent_Female:.2f}%)\")\n",
    "print(\"--------------------------------\")\n",
    "print(f\"La moyenne de l'ancienneté des employés terminés (en mois) est : {average_tenure:.2f} mois\")\n",
    "print(\"--------------------------------\")"
   ]
  }
 ],
 "metadata": {
  "kernelspec": {
   "display_name": "Python 3",
   "language": "python",
   "name": "python3"
  },
  "language_info": {
   "codemirror_mode": {
    "name": "ipython",
    "version": 3
   },
   "file_extension": ".py",
   "mimetype": "text/x-python",
   "name": "python",
   "nbconvert_exporter": "python",
   "pygments_lexer": "ipython3",
   "version": "3.12.2"
  }
 },
 "nbformat": 4,
 "nbformat_minor": 2
}
